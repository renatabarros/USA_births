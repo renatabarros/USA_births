{
 "cells": [
  {
   "cell_type": "code",
   "execution_count": 29,
   "metadata": {
    "collapsed": true
   },
   "outputs": [],
   "source": [
    "# Using the data of births in the USA from 1994 to 2003, I'm interested in exploring the following questions:\n",
    "# 1. In which days (of the month) most and less people were born?\n",
    "# 2. In which month most and less people were born?\n",
    "# 3. Is the number of people being born increasing over the years?\n",
    "# 4. How many people share a birthday (day/month) with me?\n",
    "\n",
    "# Import libraries\n",
    "\n",
    "import pandas as pd\n",
    "import matplotlib.pyplot as plt\n",
    "%matplotlib inline\n",
    "import numpy as np\n",
    "import seaborn as sns"
   ]
  },
  {
   "cell_type": "code",
   "execution_count": 97,
   "metadata": {},
   "outputs": [
    {
     "data": {
      "text/html": [
       "<div>\n",
       "<style>\n",
       "    .dataframe thead tr:only-child th {\n",
       "        text-align: right;\n",
       "    }\n",
       "\n",
       "    .dataframe thead th {\n",
       "        text-align: left;\n",
       "    }\n",
       "\n",
       "    .dataframe tbody tr th {\n",
       "        vertical-align: top;\n",
       "    }\n",
       "</style>\n",
       "<table border=\"1\" class=\"dataframe\">\n",
       "  <thead>\n",
       "    <tr style=\"text-align: right;\">\n",
       "      <th></th>\n",
       "      <th>Unnamed: 0</th>\n",
       "      <th>year</th>\n",
       "      <th>month</th>\n",
       "      <th>date_of_month</th>\n",
       "      <th>day_of_week</th>\n",
       "      <th>births</th>\n",
       "    </tr>\n",
       "  </thead>\n",
       "  <tbody>\n",
       "    <tr>\n",
       "      <th>0</th>\n",
       "      <td>NaN</td>\n",
       "      <td>1994</td>\n",
       "      <td>1</td>\n",
       "      <td>1</td>\n",
       "      <td>6</td>\n",
       "      <td>8096</td>\n",
       "    </tr>\n",
       "    <tr>\n",
       "      <th>1</th>\n",
       "      <td>NaN</td>\n",
       "      <td>1994</td>\n",
       "      <td>1</td>\n",
       "      <td>2</td>\n",
       "      <td>7</td>\n",
       "      <td>7772</td>\n",
       "    </tr>\n",
       "    <tr>\n",
       "      <th>2</th>\n",
       "      <td>NaN</td>\n",
       "      <td>1994</td>\n",
       "      <td>1</td>\n",
       "      <td>3</td>\n",
       "      <td>1</td>\n",
       "      <td>10142</td>\n",
       "    </tr>\n",
       "    <tr>\n",
       "      <th>3</th>\n",
       "      <td>NaN</td>\n",
       "      <td>1994</td>\n",
       "      <td>1</td>\n",
       "      <td>4</td>\n",
       "      <td>2</td>\n",
       "      <td>11248</td>\n",
       "    </tr>\n",
       "    <tr>\n",
       "      <th>4</th>\n",
       "      <td>NaN</td>\n",
       "      <td>1994</td>\n",
       "      <td>1</td>\n",
       "      <td>5</td>\n",
       "      <td>3</td>\n",
       "      <td>11053</td>\n",
       "    </tr>\n",
       "  </tbody>\n",
       "</table>\n",
       "</div>"
      ],
      "text/plain": [
       "   Unnamed: 0  year  month  date_of_month  day_of_week  births\n",
       "0         NaN  1994      1              1            6    8096\n",
       "1         NaN  1994      1              2            7    7772\n",
       "2         NaN  1994      1              3            1   10142\n",
       "3         NaN  1994      1              4            2   11248\n",
       "4         NaN  1994      1              5            3   11053"
      ]
     },
     "execution_count": 97,
     "metadata": {},
     "output_type": "execute_result"
    }
   ],
   "source": [
    "# Read the data table from Github\n",
    "\n",
    "df = pd.read_html(\"https://github.com/fivethirtyeight/data/blob/master/births/US_births_1994-2003_CDC_NCHS.csv\")\n",
    "\n",
    "df = df[0]\n",
    "df.head()"
   ]
  },
  {
   "cell_type": "code",
   "execution_count": 98,
   "metadata": {},
   "outputs": [
    {
     "data": {
      "text/html": [
       "<div>\n",
       "<style>\n",
       "    .dataframe thead tr:only-child th {\n",
       "        text-align: right;\n",
       "    }\n",
       "\n",
       "    .dataframe thead th {\n",
       "        text-align: left;\n",
       "    }\n",
       "\n",
       "    .dataframe tbody tr th {\n",
       "        vertical-align: top;\n",
       "    }\n",
       "</style>\n",
       "<table border=\"1\" class=\"dataframe\">\n",
       "  <thead>\n",
       "    <tr style=\"text-align: right;\">\n",
       "      <th></th>\n",
       "      <th>year</th>\n",
       "      <th>month</th>\n",
       "      <th>date_of_month</th>\n",
       "      <th>day_of_week</th>\n",
       "      <th>births</th>\n",
       "    </tr>\n",
       "  </thead>\n",
       "  <tbody>\n",
       "    <tr>\n",
       "      <th>0</th>\n",
       "      <td>1994</td>\n",
       "      <td>1</td>\n",
       "      <td>1</td>\n",
       "      <td>6</td>\n",
       "      <td>8096</td>\n",
       "    </tr>\n",
       "    <tr>\n",
       "      <th>1</th>\n",
       "      <td>1994</td>\n",
       "      <td>1</td>\n",
       "      <td>2</td>\n",
       "      <td>7</td>\n",
       "      <td>7772</td>\n",
       "    </tr>\n",
       "    <tr>\n",
       "      <th>2</th>\n",
       "      <td>1994</td>\n",
       "      <td>1</td>\n",
       "      <td>3</td>\n",
       "      <td>1</td>\n",
       "      <td>10142</td>\n",
       "    </tr>\n",
       "    <tr>\n",
       "      <th>3</th>\n",
       "      <td>1994</td>\n",
       "      <td>1</td>\n",
       "      <td>4</td>\n",
       "      <td>2</td>\n",
       "      <td>11248</td>\n",
       "    </tr>\n",
       "    <tr>\n",
       "      <th>4</th>\n",
       "      <td>1994</td>\n",
       "      <td>1</td>\n",
       "      <td>5</td>\n",
       "      <td>3</td>\n",
       "      <td>11053</td>\n",
       "    </tr>\n",
       "  </tbody>\n",
       "</table>\n",
       "</div>"
      ],
      "text/plain": [
       "   year  month  date_of_month  day_of_week  births\n",
       "0  1994      1              1            6    8096\n",
       "1  1994      1              2            7    7772\n",
       "2  1994      1              3            1   10142\n",
       "3  1994      1              4            2   11248\n",
       "4  1994      1              5            3   11053"
      ]
     },
     "execution_count": 98,
     "metadata": {},
     "output_type": "execute_result"
    }
   ],
   "source": [
    "# Drop the first column Unnamed\n",
    "\n",
    "df = df.drop(\"Unnamed: 0\", axis = 1)\n",
    "df.head()"
   ]
  },
  {
   "cell_type": "code",
   "execution_count": 99,
   "metadata": {},
   "outputs": [
    {
     "data": {
      "text/html": [
       "<div>\n",
       "<style>\n",
       "    .dataframe thead tr:only-child th {\n",
       "        text-align: right;\n",
       "    }\n",
       "\n",
       "    .dataframe thead th {\n",
       "        text-align: left;\n",
       "    }\n",
       "\n",
       "    .dataframe tbody tr th {\n",
       "        vertical-align: top;\n",
       "    }\n",
       "</style>\n",
       "<table border=\"1\" class=\"dataframe\">\n",
       "  <thead>\n",
       "    <tr style=\"text-align: right;\">\n",
       "      <th></th>\n",
       "      <th>year</th>\n",
       "      <th>month</th>\n",
       "      <th>date_of_month</th>\n",
       "      <th>day_of_week</th>\n",
       "      <th>births</th>\n",
       "    </tr>\n",
       "  </thead>\n",
       "  <tbody>\n",
       "    <tr>\n",
       "      <th>count</th>\n",
       "      <td>3652.000000</td>\n",
       "      <td>3652.000000</td>\n",
       "      <td>3652.000000</td>\n",
       "      <td>3652.000000</td>\n",
       "      <td>3652.000000</td>\n",
       "    </tr>\n",
       "    <tr>\n",
       "      <th>mean</th>\n",
       "      <td>1998.499726</td>\n",
       "      <td>6.523549</td>\n",
       "      <td>15.727820</td>\n",
       "      <td>3.999726</td>\n",
       "      <td>10876.817360</td>\n",
       "    </tr>\n",
       "    <tr>\n",
       "      <th>std</th>\n",
       "      <td>2.872293</td>\n",
       "      <td>3.449005</td>\n",
       "      <td>8.800529</td>\n",
       "      <td>2.000753</td>\n",
       "      <td>1858.566631</td>\n",
       "    </tr>\n",
       "    <tr>\n",
       "      <th>min</th>\n",
       "      <td>1994.000000</td>\n",
       "      <td>1.000000</td>\n",
       "      <td>1.000000</td>\n",
       "      <td>1.000000</td>\n",
       "      <td>6443.000000</td>\n",
       "    </tr>\n",
       "    <tr>\n",
       "      <th>25%</th>\n",
       "      <td>1996.000000</td>\n",
       "      <td>4.000000</td>\n",
       "      <td>8.000000</td>\n",
       "      <td>2.000000</td>\n",
       "      <td>8844.500000</td>\n",
       "    </tr>\n",
       "    <tr>\n",
       "      <th>50%</th>\n",
       "      <td>1998.500000</td>\n",
       "      <td>7.000000</td>\n",
       "      <td>16.000000</td>\n",
       "      <td>4.000000</td>\n",
       "      <td>11615.000000</td>\n",
       "    </tr>\n",
       "    <tr>\n",
       "      <th>75%</th>\n",
       "      <td>2001.000000</td>\n",
       "      <td>10.000000</td>\n",
       "      <td>23.000000</td>\n",
       "      <td>6.000000</td>\n",
       "      <td>12274.250000</td>\n",
       "    </tr>\n",
       "    <tr>\n",
       "      <th>max</th>\n",
       "      <td>2003.000000</td>\n",
       "      <td>12.000000</td>\n",
       "      <td>31.000000</td>\n",
       "      <td>7.000000</td>\n",
       "      <td>14540.000000</td>\n",
       "    </tr>\n",
       "  </tbody>\n",
       "</table>\n",
       "</div>"
      ],
      "text/plain": [
       "              year        month  date_of_month  day_of_week        births\n",
       "count  3652.000000  3652.000000    3652.000000  3652.000000   3652.000000\n",
       "mean   1998.499726     6.523549      15.727820     3.999726  10876.817360\n",
       "std       2.872293     3.449005       8.800529     2.000753   1858.566631\n",
       "min    1994.000000     1.000000       1.000000     1.000000   6443.000000\n",
       "25%    1996.000000     4.000000       8.000000     2.000000   8844.500000\n",
       "50%    1998.500000     7.000000      16.000000     4.000000  11615.000000\n",
       "75%    2001.000000    10.000000      23.000000     6.000000  12274.250000\n",
       "max    2003.000000    12.000000      31.000000     7.000000  14540.000000"
      ]
     },
     "execution_count": 99,
     "metadata": {},
     "output_type": "execute_result"
    }
   ],
   "source": [
    "# Check a dataframe summary and types of data stored in each column\n",
    "\n",
    "df.describe()\n",
    "\n",
    "# It seems they are all stored as integers, so no changes are necessary"
   ]
  },
  {
   "cell_type": "code",
   "execution_count": 131,
   "metadata": {},
   "outputs": [
    {
     "name": "stdout",
     "output_type": "stream",
     "text": [
      "date_of_month\n",
      "1     1276557\n",
      "2     1288739\n",
      "3     1304499\n",
      "4     1288154\n",
      "5     1299953\n",
      "6     1304474\n",
      "7     1310459\n",
      "8     1312297\n",
      "9     1303292\n",
      "10    1320764\n",
      "11    1314361\n",
      "12    1318437\n",
      "13    1277684\n",
      "14    1320153\n",
      "15    1319171\n",
      "16    1315192\n",
      "17    1324953\n",
      "18    1326855\n",
      "19    1318727\n",
      "20    1324821\n",
      "21    1322897\n",
      "22    1317381\n",
      "23    1293290\n",
      "24    1288083\n",
      "25    1272116\n",
      "26    1284796\n",
      "27    1294395\n",
      "28    1307685\n",
      "29    1223161\n",
      "30    1202095\n",
      "31     746696\n",
      "Name: births, dtype: int64\n",
      "1326855\n",
      "746696\n"
     ]
    }
   ],
   "source": [
    "# 1. In which days (of the month) most and less people were born?\n",
    "\n",
    "# Group the data by date of month\n",
    "\n",
    "births_dates = df.groupby(\"date_of_month\")\n",
    "births_dates.describe()\n",
    "\n",
    "print(births_dates['births'].sum())\n",
    "\n",
    "print(max(births_dates['births'].sum()))\n",
    "\n",
    "print(min(births_dates['births'].sum()))\n",
    "\n",
    "\n"
   ]
  },
  {
   "cell_type": "code",
   "execution_count": 117,
   "metadata": {},
   "outputs": [
    {
     "data": {
      "text/plain": [
       "Text(0.5,0,'Date of month')"
      ]
     },
     "execution_count": 117,
     "metadata": {},
     "output_type": "execute_result"
    },
    {
     "data": {
      "image/png": "[encoded data removed]",
      "text/plain": [
       "<matplotlib.figure.Figure at 0x12aafa20>"
      ]
     },
     "metadata": {},
     "output_type": "display_data"
    }
   ],
   "source": [
    "# Plot a histogram with total number of births per day of month\n",
    "\n",
    "sns.set_style(\"darkgrid\")\n",
    "births_dates['births'].sum().plot()\n",
    "plt.title(\"Total number of births per day\")\n",
    "plt.xlabel(\"Date of month\")\n",
    "\n",
    "# It is expected that the number of births is more of less equally distributed over the days of month,\n",
    "# with the expection of the 31st, that is only present in 7 months of the year.\n",
    "# It is interesting that a \"negative anomaly\" is present on the 13th, considered by many as a \"bad luck day\";\n",
    "# According to the CDC website, in 2015 32% of deliveries were by cesarean [1], and the high incidence of\n",
    "# cesareans could play an important role for parents to avoid the 13th day of the months.\n",
    "\n",
    "# Day of month most people are born: 18th\n",
    "# Day of month less people are born: 31st\n",
    "# Anomaly: decrease in births on the 13th\n",
    "\n",
    "# [1] https://www.cdc.gov/nchs/fastats/delivery.htm)"
   ]
  },
  {
   "cell_type": "code",
   "execution_count": 136,
   "metadata": {},
   "outputs": [
    {
     "data": {
      "text/plain": [
       "Text(0.5,0,'Month')"
      ]
     },
     "execution_count": 136,
     "metadata": {},
     "output_type": "execute_result"
    },
    {
     "data": {
      "image/png": "[encoded data removed]",
      "text/plain": [
       "<matplotlib.figure.Figure at 0x12630400>"
      ]
     },
     "metadata": {},
     "output_type": "display_data"
    }
   ],
   "source": [
    "# 2. In which month most and less people were born?\n",
    "\n",
    "# Group data by months\n",
    "births_months = df.groupby(\"month\")\n",
    "births_months.describe()\n",
    "\n",
    "# Plot a histogram with total number of births per month\n",
    "\n",
    "sns.set_style(\"darkgrid\")\n",
    "births_months['births'].sum().plot()\n",
    "plt.title(\"Total number of births per month\")\n",
    "plt.xlabel(\"Month\")\n",
    "\n",
    "# The peak in number of births is in August, followed by July and September;\n",
    "# This is not surprising considering it is 8 or 9 months after winter holidays (Thanksgiving, Christmas, NYE)!\n",
    "\n",
    "# Month in which most people were born: August\n",
    "# Month in which less people were born: February"
   ]
  },
  {
   "cell_type": "code",
   "execution_count": 132,
   "metadata": {},
   "outputs": [
    {
     "data": {
      "text/plain": [
       "Text(0.5,0,'Year')"
      ]
     },
     "execution_count": 132,
     "metadata": {},
     "output_type": "execute_result"
    },
    {
     "data": {
      "image/png": "[encoded data removed]",
      "text/plain": [
       "<matplotlib.figure.Figure at 0x12b32b70>"
      ]
     },
     "metadata": {},
     "output_type": "display_data"
    }
   ],
   "source": [
    "# 3. Is the number of people being born increasing over the years?\n",
    "\n",
    "# Count the number of births per year\n",
    "\n",
    "bpy = df.groupby(\"year\")\n",
    "bpy.describe()\n",
    "\n",
    "# Plot the total number of births per year\n",
    "\n",
    "sns.set_style(\"darkgrid\")\n",
    "bpy['births'].sum().plot()\n",
    "plt.title(\"Total number of births per year\")\n",
    "plt.xlabel(\"Year\")\n",
    "\n",
    "# It seems the total number of births is increasing over the years.\n",
    "# There is an interesting low in 1997, and a peak in 2000.\n",
    "# The increase in births from 1997 to 2000 agrees with the decrease in the unemployment rate in the US,\n",
    "# which reached the lowest rate in 2000 [2]\n",
    "\n",
    "# The number of people being born is increasing over the years.\n",
    "\n",
    "# [2] https://www.statista.com/statistics/193290/unemployment-rate-in-the-usa-since-1990/"
   ]
  },
  {
   "cell_type": "code",
   "execution_count": 144,
   "metadata": {},
   "outputs": [
    {
     "data": {
      "text/plain": [
       "118932"
      ]
     },
     "execution_count": 144,
     "metadata": {},
     "output_type": "execute_result"
    }
   ],
   "source": [
    "# 4. How many people share a birthday (day/month) with me?\n",
    "\n",
    "# Count the number of births on the 17th September\n",
    "\n",
    "my_bday = df[(df.month == 9) & (df.date_of_month == 17)]\n",
    "my_bday[\"births\"].sum()\n",
    "\n",
    "# I share my birthday with 118932 people born in the US over the period studied\n",
    "# What about you?"
   ]
  },
  {
   "cell_type": "code",
   "execution_count": null,
   "metadata": {
    "collapsed": true
   },
   "outputs": [],
   "source": []
  }
 ],
 "metadata": {
  "kernelspec": {
   "display_name": "Python 3",
   "language": "python",
   "name": "python3"
  },
  "language_info": {
   "codemirror_mode": {
    "name": "ipython",
    "version": 3
   },
   "file_extension": ".py",
   "mimetype": "text/x-python",
   "name": "python",
   "nbconvert_exporter": "python",
   "pygments_lexer": "ipython3",
   "version": "3.6.3"
  }
 },
 "nbformat": 4,
 "nbformat_minor": 2
}
